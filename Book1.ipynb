{
 "cells": [
  {
   "cell_type": "code",
   "execution_count": 43,
   "id": "4d7de87e",
   "metadata": {},
   "outputs": [],
   "source": [
    "import pandas as pd\n",
    "df = pd.read_csv('./boston.csv')"
   ]
  },
  {
   "cell_type": "code",
   "execution_count": 4,
   "id": "0cc86cd1",
   "metadata": {},
   "outputs": [
    {
     "data": {
      "text/html": [
       "<div>\n",
       "<style scoped>\n",
       "    .dataframe tbody tr th:only-of-type {\n",
       "        vertical-align: middle;\n",
       "    }\n",
       "\n",
       "    .dataframe tbody tr th {\n",
       "        vertical-align: top;\n",
       "    }\n",
       "\n",
       "    .dataframe thead th {\n",
       "        text-align: right;\n",
       "    }\n",
       "</style>\n",
       "<table border=\"1\" class=\"dataframe\">\n",
       "  <thead>\n",
       "    <tr style=\"text-align: right;\">\n",
       "      <th></th>\n",
       "      <th>CRIM</th>\n",
       "      <th>ZN</th>\n",
       "      <th>INDUS</th>\n",
       "      <th>CHAS</th>\n",
       "      <th>NOX</th>\n",
       "      <th>RM</th>\n",
       "      <th>AGE</th>\n",
       "      <th>DIS</th>\n",
       "      <th>RAD</th>\n",
       "      <th>TAX</th>\n",
       "      <th>PTRATIO</th>\n",
       "      <th>B</th>\n",
       "      <th>LSTAT</th>\n",
       "      <th>MEDV</th>\n",
       "      <th>CAT. MEDV</th>\n",
       "    </tr>\n",
       "  </thead>\n",
       "  <tbody>\n",
       "    <tr>\n",
       "      <th>0</th>\n",
       "      <td>0.00632</td>\n",
       "      <td>18.0</td>\n",
       "      <td>2.31</td>\n",
       "      <td>0</td>\n",
       "      <td>0.538</td>\n",
       "      <td>6.575</td>\n",
       "      <td>65.2</td>\n",
       "      <td>4.0900</td>\n",
       "      <td>1</td>\n",
       "      <td>296</td>\n",
       "      <td>15.3</td>\n",
       "      <td>396.90</td>\n",
       "      <td>4.98</td>\n",
       "      <td>24.0</td>\n",
       "      <td>0</td>\n",
       "    </tr>\n",
       "    <tr>\n",
       "      <th>1</th>\n",
       "      <td>0.02731</td>\n",
       "      <td>0.0</td>\n",
       "      <td>7.07</td>\n",
       "      <td>0</td>\n",
       "      <td>0.469</td>\n",
       "      <td>6.421</td>\n",
       "      <td>78.9</td>\n",
       "      <td>4.9671</td>\n",
       "      <td>2</td>\n",
       "      <td>242</td>\n",
       "      <td>17.8</td>\n",
       "      <td>396.90</td>\n",
       "      <td>9.14</td>\n",
       "      <td>21.6</td>\n",
       "      <td>0</td>\n",
       "    </tr>\n",
       "    <tr>\n",
       "      <th>2</th>\n",
       "      <td>0.02729</td>\n",
       "      <td>0.0</td>\n",
       "      <td>7.07</td>\n",
       "      <td>0</td>\n",
       "      <td>0.469</td>\n",
       "      <td>7.185</td>\n",
       "      <td>61.1</td>\n",
       "      <td>4.9671</td>\n",
       "      <td>2</td>\n",
       "      <td>242</td>\n",
       "      <td>17.8</td>\n",
       "      <td>392.83</td>\n",
       "      <td>4.03</td>\n",
       "      <td>34.7</td>\n",
       "      <td>1</td>\n",
       "    </tr>\n",
       "    <tr>\n",
       "      <th>3</th>\n",
       "      <td>0.03237</td>\n",
       "      <td>0.0</td>\n",
       "      <td>2.18</td>\n",
       "      <td>0</td>\n",
       "      <td>0.458</td>\n",
       "      <td>6.998</td>\n",
       "      <td>45.8</td>\n",
       "      <td>6.0622</td>\n",
       "      <td>3</td>\n",
       "      <td>222</td>\n",
       "      <td>18.7</td>\n",
       "      <td>394.63</td>\n",
       "      <td>2.94</td>\n",
       "      <td>33.4</td>\n",
       "      <td>1</td>\n",
       "    </tr>\n",
       "    <tr>\n",
       "      <th>4</th>\n",
       "      <td>0.06905</td>\n",
       "      <td>0.0</td>\n",
       "      <td>2.18</td>\n",
       "      <td>0</td>\n",
       "      <td>0.458</td>\n",
       "      <td>7.147</td>\n",
       "      <td>54.2</td>\n",
       "      <td>6.0622</td>\n",
       "      <td>3</td>\n",
       "      <td>222</td>\n",
       "      <td>18.7</td>\n",
       "      <td>396.90</td>\n",
       "      <td>5.33</td>\n",
       "      <td>36.2</td>\n",
       "      <td>1</td>\n",
       "    </tr>\n",
       "  </tbody>\n",
       "</table>\n",
       "</div>"
      ],
      "text/plain": [
       "      CRIM    ZN  INDUS  CHAS    NOX     RM   AGE     DIS  RAD  TAX  PTRATIO  \\\n",
       "0  0.00632  18.0   2.31     0  0.538  6.575  65.2  4.0900    1  296     15.3   \n",
       "1  0.02731   0.0   7.07     0  0.469  6.421  78.9  4.9671    2  242     17.8   \n",
       "2  0.02729   0.0   7.07     0  0.469  7.185  61.1  4.9671    2  242     17.8   \n",
       "3  0.03237   0.0   2.18     0  0.458  6.998  45.8  6.0622    3  222     18.7   \n",
       "4  0.06905   0.0   2.18     0  0.458  7.147  54.2  6.0622    3  222     18.7   \n",
       "\n",
       "        B  LSTAT  MEDV  CAT. MEDV  \n",
       "0  396.90   4.98  24.0          0  \n",
       "1  396.90   9.14  21.6          0  \n",
       "2  392.83   4.03  34.7          1  \n",
       "3  394.63   2.94  33.4          1  \n",
       "4  396.90   5.33  36.2          1  "
      ]
     },
     "execution_count": 4,
     "metadata": {},
     "output_type": "execute_result"
    }
   ],
   "source": [
    "df.head()"
   ]
  },
  {
   "cell_type": "markdown",
   "id": "1c37b00e",
   "metadata": {},
   "source": [
    "#### boston 데이터 세트의 MEDV 칼럼에 대해서 가장 작은 값부터 순서대로 10개행을 출력해야 한다. 즉, 오름차순으로 정렬된 MEDV값에 서 Top 10을 구하시오"
   ]
  },
  {
   "cell_type": "code",
   "execution_count": 8,
   "id": "ef99f47b",
   "metadata": {},
   "outputs": [
    {
     "data": {
      "text/plain": [
       "398    5.0\n",
       "405    5.0\n",
       "400    5.6\n",
       "399    6.3\n",
       "414    7.0\n",
       "489    7.0\n",
       "401    7.2\n",
       "385    7.2\n",
       "415    7.2\n",
       "387    7.4\n",
       "Name: MEDV, dtype: float64"
      ]
     },
     "execution_count": 8,
     "metadata": {},
     "output_type": "execute_result"
    }
   ],
   "source": [
    "df.sort_values(by='MEDV').MEDV.head(10)"
   ]
  },
  {
   "cell_type": "markdown",
   "id": "da4e284e",
   "metadata": {},
   "source": [
    "#### boston 데이터 세트의 RM 칼럼에 대한 결측치 처리를 평균값으로 대치하거나 삭제할 수 있다. RM 칼럼의 결측치를 평균값으로 대치한 후에 산출된 표준편차 값과 결측치를 삭제한 후에 산출된 표춘편차 값의 차이를 구하시오. 단, 최종적으로 출력하는 차이는 양수이다."
   ]
  },
  {
   "cell_type": "code",
   "execution_count": 46,
   "id": "b801b8b5",
   "metadata": {},
   "outputs": [
    {
     "name": "stdout",
     "output_type": "stream",
     "text": [
      "0.0\n"
     ]
    }
   ],
   "source": [
    "data = pd.read_csv('./boston.csv')\n",
    "data_mean = data['RM'].copy()\n",
    "rm_mean = data_mean.mean()\n",
    "data_mean.fillna(rm_mean, inplace = True)\n",
    "data_del = data['RM'].copy()\n",
    "data_del.dropna(inplace=True)\n",
    "print(abs(data_mean.std()-data_del.std()))"
   ]
  },
  {
   "cell_type": "markdown",
   "id": "03d8fca3",
   "metadata": {},
   "source": [
    "#### boston 데이터 세트의 ZN 칼럼을 대상으로 ZN 값의 평균값에서 표준편차의 1.5배보다 크거나 작은 ZN 값의 합계를 구하시오"
   ]
  },
  {
   "cell_type": "code",
   "execution_count": 62,
   "id": "ca8aea63",
   "metadata": {},
   "outputs": [
    {
     "data": {
      "text/plain": [
       "3462.5"
      ]
     },
     "execution_count": 62,
     "metadata": {},
     "output_type": "execute_result"
    }
   ],
   "source": [
    "zn_mean = df['ZN'].mean()\n",
    "zn_std = df['ZN'].std()\n",
    "zn_max = zn_mean + (1.5 * zn_std)\n",
    "zn_min = zn_mean - (1.5 * zn_std)\n",
    "zn_min\n",
    "zn_max2 = data[data['ZN'] > zn_max].ZN\n",
    "zn_min2 = data[data['ZN'] < zn_min].ZN\n",
    "zn_max2.sum() + zn_min2.sum()"
   ]
  },
  {
   "cell_type": "markdown",
   "id": "e7eabb39",
   "metadata": {},
   "source": [
    "#### CHAS 칼럼과 RAD 칼럼을 제외한 칼럼에 한해서 칼럼별 IQR값을 구하시오. 단 출력 구조는 2열이고 1열은 보스턴 데이터 세트의 칼럼 이름이 표시되어야 한다.|"
   ]
  },
  {
   "cell_type": "code",
   "execution_count": 69,
   "id": "c5fb3621",
   "metadata": {},
   "outputs": [
    {
     "data": {
      "text/plain": [
       "CRIM           3.595038\n",
       "ZN            12.500000\n",
       "INDUS         12.910000\n",
       "NOX            0.175000\n",
       "RM             0.738000\n",
       "AGE           49.050000\n",
       "DIS            3.088250\n",
       "TAX          387.000000\n",
       "PTRATIO        2.800000\n",
       "B             20.847500\n",
       "LSTAT         10.005000\n",
       "MEDV           7.975000\n",
       "CAT. MEDV      0.000000\n",
       "dtype: float64"
      ]
     },
     "execution_count": 69,
     "metadata": {},
     "output_type": "execute_result"
    }
   ],
   "source": [
    "df2 = df.drop(columns = ['CHAS', 'RAD'])\n",
    "iqr = df2.quantile(0.75) - df2.quantile(0.25)\n",
    "iqr"
   ]
  },
  {
   "cell_type": "markdown",
   "id": "c6130461",
   "metadata": {},
   "source": [
    "#### MEDV 칼럼을 기준으로 30번째로 큰 값을 1번 ~29번째로 큰 값에 적용한다. 그리고 MEDV 칼럼의 평균값, 중위값, 최솟값, 최댓값 순으로 한줄에 출력하시오."
   ]
  },
  {
   "cell_type": "code",
   "execution_count": 107,
   "id": "381275da",
   "metadata": {},
   "outputs": [
    {
     "name": "stdout",
     "output_type": "stream",
     "text": [
      "22.180830039525684 21.2 5.0 42.3\n"
     ]
    }
   ],
   "source": [
    "value30 = df['MEDV'].sort_values(ascending=False).iloc[29]\n",
    "medv_df = df['MEDV'].sort_values(ascending=False)\n",
    "medv_df.iloc[0:28] = value30\n",
    "print(medv_df.mean(), medv_df.median(), medv_df.min(), medv_df.max())\n"
   ]
  },
  {
   "cell_type": "markdown",
   "id": "fac7c4f2",
   "metadata": {},
   "source": [
    "#### TAX 칼럼이 TAX 칼럼의 중위값 보다 큰 데이터를 대상으로, CHAS 칼럼과 RAD 칼럼 순으로 그룹을 지은 후 각 그룹의 데이터 개수를 구하시오. 단, CHAS, RAD 칼럼별 데이터 개수는 COUNT라는 칼럼으로 출력합니다"
   ]
  },
  {
   "cell_type": "code",
   "execution_count": 150,
   "id": "dc184b3b",
   "metadata": {},
   "outputs": [
    {
     "data": {
      "text/html": [
       "<div>\n",
       "<style scoped>\n",
       "    .dataframe tbody tr th:only-of-type {\n",
       "        vertical-align: middle;\n",
       "    }\n",
       "\n",
       "    .dataframe tbody tr th {\n",
       "        vertical-align: top;\n",
       "    }\n",
       "\n",
       "    .dataframe thead th {\n",
       "        text-align: right;\n",
       "    }\n",
       "</style>\n",
       "<table border=\"1\" class=\"dataframe\">\n",
       "  <thead>\n",
       "    <tr style=\"text-align: right;\">\n",
       "      <th></th>\n",
       "      <th></th>\n",
       "      <th>COUNT</th>\n",
       "    </tr>\n",
       "    <tr>\n",
       "      <th>CHAS</th>\n",
       "      <th>RAD</th>\n",
       "      <th></th>\n",
       "    </tr>\n",
       "  </thead>\n",
       "  <tbody>\n",
       "    <tr>\n",
       "      <th rowspan=\"7\" valign=\"top\">0</th>\n",
       "      <th>1</th>\n",
       "      <td>3</td>\n",
       "    </tr>\n",
       "    <tr>\n",
       "      <th>2</th>\n",
       "      <td>2</td>\n",
       "    </tr>\n",
       "    <tr>\n",
       "      <th>3</th>\n",
       "      <td>5</td>\n",
       "    </tr>\n",
       "    <tr>\n",
       "      <th>4</th>\n",
       "      <td>33</td>\n",
       "    </tr>\n",
       "    <tr>\n",
       "      <th>5</th>\n",
       "      <td>51</td>\n",
       "    </tr>\n",
       "    <tr>\n",
       "      <th>6</th>\n",
       "      <td>17</td>\n",
       "    </tr>\n",
       "    <tr>\n",
       "      <th>24</th>\n",
       "      <td>124</td>\n",
       "    </tr>\n",
       "    <tr>\n",
       "      <th rowspan=\"2\" valign=\"top\">1</th>\n",
       "      <th>5</th>\n",
       "      <td>7</td>\n",
       "    </tr>\n",
       "    <tr>\n",
       "      <th>24</th>\n",
       "      <td>8</td>\n",
       "    </tr>\n",
       "  </tbody>\n",
       "</table>\n",
       "</div>"
      ],
      "text/plain": [
       "          COUNT\n",
       "CHAS RAD       \n",
       "0    1        3\n",
       "     2        2\n",
       "     3        5\n",
       "     4       33\n",
       "     5       51\n",
       "     6       17\n",
       "     24     124\n",
       "1    5        7\n",
       "     24       8"
      ]
     },
     "execution_count": 150,
     "metadata": {},
     "output_type": "execute_result"
    }
   ],
   "source": [
    "tax_df = df[df['TAX'] > df['TAX'].median()][['CHAS', 'RAD']]\n",
    "tax_df2 = tax_df.groupby(['CHAS', 'RAD']).RAD.count()\n",
    "tax_df3 = pd.DataFrame(tax_df2)\n",
    "tax_df3.columns = ['COUNT']\n",
    "tax_df3"
   ]
  },
  {
   "cell_type": "markdown",
   "id": "40c33c5e",
   "metadata": {},
   "source": [
    "#### TAX칼럼을 오름차순으로 정렬한 결과와 내림차순으로 정렬한 결과를 각각 구한다. 그리고 각 순번에 맞는 오름차순 값과 내림차순 값의 차이를 구하여 분산 값을 출력하시오"
   ]
  },
  {
   "cell_type": "code",
   "execution_count": 182,
   "id": "50d58d47",
   "metadata": {},
   "outputs": [
    {
     "data": {
      "text/plain": [
       "28490.5986459515"
      ]
     },
     "execution_count": 182,
     "metadata": {},
     "output_type": "execute_result"
    }
   ],
   "source": [
    "df = pd.read_csv('./boston.csv')\n",
    "df_asc = df['TAX'].copy()\n",
    "df_dsc = df['TAX'].copy()\n",
    "df_asc.sort_values(ascending= True, inplace=True)\n",
    "df_dsc.sort_values(ascending=False, inplace=True)\n",
    "df_asc.reset_index(drop=True, inplace=True)\n",
    "df_dsc.reset_index(drop=True, inplace=True)\n",
    "df_concat = pd.concat([df_asc, df_dsc], axis=1)\n",
    "df_concat['diff'] = abs(df_concat.iloc[:,0] - df_concat.iloc[:,1])\n",
    "df_concat['diff'].var()"
   ]
  },
  {
   "cell_type": "markdown",
   "id": "3282b2db",
   "metadata": {},
   "source": [
    "#### MEDV칼럼을 최소최대 척도(Min - Max Scale)로 변환한 후 0.5보다 큰 값을 가지는 레코드 수를 구하시오."
   ]
  },
  {
   "cell_type": "code",
   "execution_count": 195,
   "id": "81c63298",
   "metadata": {},
   "outputs": [
    {
     "data": {
      "text/plain": [
       "106"
      ]
     },
     "execution_count": 195,
     "metadata": {},
     "output_type": "execute_result"
    }
   ],
   "source": [
    "from sklearn.preprocessing import MinMaxScaler\n",
    "scaler = MinMaxScaler()\n",
    "data_minmax = scaler.fit_transform(df)\n",
    "data_minmax = pd.DataFrame(data_minmax, columns = df.columns)\n",
    "data_minmax[data_minmax['MEDV'] > 0.5].MEDV.count()"
   ]
  },
  {
   "cell_type": "markdown",
   "id": "d76aa046",
   "metadata": {},
   "source": [
    "#### AGE 칼럼을 소수점 첫 번째 자리에서 반올림하고, 가장 많은 비중을 차지하는 AGE값과 그 개수를 차례대로 출력하시오. 즉, AGE 칼럼의 최빈값과 그 개수를 출력하시오."
   ]
  },
  {
   "cell_type": "code",
   "execution_count": 230,
   "id": "c91f155c",
   "metadata": {},
   "outputs": [
    {
     "data": {
      "text/plain": [
       "[100.0, 43]"
      ]
     },
     "execution_count": 230,
     "metadata": {},
     "output_type": "execute_result"
    }
   ],
   "source": [
    "df['AGE'] = df['AGE'].round(0)\n",
    "temp = {}\n",
    "for i in df['AGE']:\n",
    "    if i not in temp:\n",
    "        temp[i] = 1\n",
    "    else:\n",
    "        temp[i] = temp[i]+1\n",
    "\n",
    "result = [0, 0]\n",
    "for x, y in temp.items():\n",
    "    if result[1] < y:\n",
    "        result[0] = x\n",
    "        result[1] = y\n",
    "result"
   ]
  },
  {
   "cell_type": "code",
   "execution_count": 239,
   "id": "df547250",
   "metadata": {},
   "outputs": [
    {
     "data": {
      "text/plain": [
       "43"
      ]
     },
     "execution_count": 239,
     "metadata": {},
     "output_type": "execute_result"
    }
   ],
   "source": [
    "from scipy.stats import mode\n",
    "int(mode(df['AGE'].round(0))[0])\n",
    "int(mode(df['AGE'].round(0))[1])"
   ]
  },
  {
   "cell_type": "markdown",
   "id": "47ea2523",
   "metadata": {},
   "source": [
    "#### DIS 칼럼을 표준화 척도로 변환한 후, 0.4보다 크면서 0.6보다 작은 값들에 대한 평균을 구하시오. 단 소수점 셋째 자리에서 반올림하여 소수점 둘째 자리까지 출력하시오"
   ]
  },
  {
   "cell_type": "code",
   "execution_count": 257,
   "id": "ddeeaef0",
   "metadata": {},
   "outputs": [
    {
     "data": {
      "text/plain": [
       "0.48"
      ]
     },
     "execution_count": 257,
     "metadata": {},
     "output_type": "execute_result"
    }
   ],
   "source": [
    "from sklearn.preprocessing import StandardScaler\n",
    "scaler = StandardScaler()\n",
    "df_standard = scaler.fit_transform(df)\n",
    "df_standard = pd.DataFrame(df_standard, columns = df.columns)\n",
    "round(df_standard[(0.4 < df_standard['DIS']) & (0.6 > df_standard['DIS'])].DIS.mean(),2)"
   ]
  },
  {
   "cell_type": "markdown",
   "id": "2ea3d5bb",
   "metadata": {},
   "source": [
    "#### 전체 칼럼에 대해서 중복을 제거한 유니크한 값을 구한 후, 칼럼별로 유니크 한 값의 개수를 기준으로 평균값을 구하시오"
   ]
  },
  {
   "cell_type": "code",
   "execution_count": 342,
   "id": "d388dea7",
   "metadata": {},
   "outputs": [
    {
     "data": {
      "text/plain": [
       "218.0"
      ]
     },
     "execution_count": 342,
     "metadata": {},
     "output_type": "execute_result"
    }
   ],
   "source": [
    "df = pd.read_csv('./boston.csv')\n",
    "#df.fillna(\"null\",inplace=True)\n",
    "columns = df.columns\n",
    "result = 0\n",
    "for column in columns:\n",
    "    result += len(df[column].dropna().unique())\n",
    "result / len(columns)"
   ]
  },
  {
   "cell_type": "markdown",
   "id": "14b700d9",
   "metadata": {},
   "source": []
  },
  {
   "cell_type": "code",
   "execution_count": null,
   "id": "39b358c8",
   "metadata": {},
   "outputs": [],
   "source": []
  },
  {
   "cell_type": "markdown",
   "id": "d37c040a",
   "metadata": {},
   "source": []
  },
  {
   "cell_type": "code",
   "execution_count": null,
   "id": "20ab8832",
   "metadata": {},
   "outputs": [],
   "source": []
  },
  {
   "cell_type": "markdown",
   "id": "f23966a0",
   "metadata": {},
   "source": []
  },
  {
   "cell_type": "code",
   "execution_count": null,
   "id": "ccaf3d11",
   "metadata": {},
   "outputs": [],
   "source": []
  },
  {
   "cell_type": "markdown",
   "id": "7873d4c1",
   "metadata": {},
   "source": []
  },
  {
   "cell_type": "code",
   "execution_count": null,
   "id": "4431bee7",
   "metadata": {},
   "outputs": [],
   "source": []
  }
 ],
 "metadata": {
  "kernelspec": {
   "display_name": "Python 3 (ipykernel)",
   "language": "python",
   "name": "python3"
  },
  "language_info": {
   "codemirror_mode": {
    "name": "ipython",
    "version": 3
   },
   "file_extension": ".py",
   "mimetype": "text/x-python",
   "name": "python",
   "nbconvert_exporter": "python",
   "pygments_lexer": "ipython3",
   "version": "3.9.12"
  }
 },
 "nbformat": 4,
 "nbformat_minor": 5
}
